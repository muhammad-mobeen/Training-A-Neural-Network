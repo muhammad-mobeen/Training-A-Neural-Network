{
  "cells": [
    {
      "cell_type": "code",
      "execution_count": 1,
      "metadata": {
        "id": "OSqVNwosv7Do"
      },
      "outputs": [],
      "source": [
        "import numpy as np\n",
        "import pandas as pd\n",
        "import matplotlib.pyplot as plt\n",
        "\n",
        "import torch\n",
        "import torch.nn as nn\n",
        "from torch.autograd import Variable\n",
        "\n",
        "import torchvision\n",
        "import torchvision.transforms as transforms\n",
        "from torch.utils.data import Dataset, DataLoader\n",
        "from sklearn.metrics import confusion_matrix"
      ]
    },
    {
      "cell_type": "code",
      "execution_count": null,
      "metadata": {
        "id": "Eb9PEMXlv7Ds"
      },
      "outputs": [],
      "source": [
        "#if the GPU is available use it for the computation otherwise use the CPU.\n",
        "\n",
        "device = torch.device(\"cuda:0\" if torch.cuda.is_available() else \"cpu\")"
      ]
    },
    {
      "cell_type": "code",
      "execution_count": null,
      "metadata": {
        "id": "ipgClLXdv7Dt"
      },
      "outputs": [],
      "source": [
        "#There are 2 ways to load the Fashion MNIST dataset.\n",
        "\n",
        "#There are 2 ways to load the Fashion MNIST dataset.\n",
        "\n",
        "#1.   Load csv and then inherite Pytorch Dataset class .\n",
        "#2.   Use Pytorch module torchvision.datasets. It has many popular datasets like MNIST, FashionMNIST, CIFAR10 e.t.c\n",
        "\n",
        "#Note: We use DataLoader class from torch.utils.data to load data in batches in both method."
      ]
    },
    {
      "cell_type": "code",
      "execution_count": 2,
      "metadata": {
        "id": "yPRsarhOv7Dt"
      },
      "outputs": [
        {
          "name": "stdout",
          "output_type": "stream",
          "text": [
            "Downloading http://fashion-mnist.s3-website.eu-central-1.amazonaws.com/train-images-idx3-ubyte.gz\n",
            "Downloading http://fashion-mnist.s3-website.eu-central-1.amazonaws.com/train-images-idx3-ubyte.gz to ./data\\FashionMNIST\\raw\\train-images-idx3-ubyte.gz\n"
          ]
        },
        {
          "name": "stderr",
          "output_type": "stream",
          "text": [
            "100%|██████████| 26421880/26421880 [01:17<00:00, 339580.51it/s] \n"
          ]
        },
        {
          "name": "stdout",
          "output_type": "stream",
          "text": [
            "Extracting ./data\\FashionMNIST\\raw\\train-images-idx3-ubyte.gz to ./data\\FashionMNIST\\raw\n",
            "\n",
            "Downloading http://fashion-mnist.s3-website.eu-central-1.amazonaws.com/train-labels-idx1-ubyte.gz\n",
            "Downloading http://fashion-mnist.s3-website.eu-central-1.amazonaws.com/train-labels-idx1-ubyte.gz to ./data\\FashionMNIST\\raw\\train-labels-idx1-ubyte.gz\n"
          ]
        },
        {
          "name": "stderr",
          "output_type": "stream",
          "text": [
            "100%|██████████| 29515/29515 [00:00<00:00, 145964.74it/s]\n"
          ]
        },
        {
          "name": "stdout",
          "output_type": "stream",
          "text": [
            "Extracting ./data\\FashionMNIST\\raw\\train-labels-idx1-ubyte.gz to ./data\\FashionMNIST\\raw\n",
            "\n",
            "Downloading http://fashion-mnist.s3-website.eu-central-1.amazonaws.com/t10k-images-idx3-ubyte.gz\n",
            "Downloading http://fashion-mnist.s3-website.eu-central-1.amazonaws.com/t10k-images-idx3-ubyte.gz to ./data\\FashionMNIST\\raw\\t10k-images-idx3-ubyte.gz\n"
          ]
        },
        {
          "name": "stderr",
          "output_type": "stream",
          "text": [
            "100%|██████████| 4422102/4422102 [00:06<00:00, 690124.20it/s] \n"
          ]
        },
        {
          "name": "stdout",
          "output_type": "stream",
          "text": [
            "Extracting ./data\\FashionMNIST\\raw\\t10k-images-idx3-ubyte.gz to ./data\\FashionMNIST\\raw\n",
            "\n",
            "Downloading http://fashion-mnist.s3-website.eu-central-1.amazonaws.com/t10k-labels-idx1-ubyte.gz\n",
            "Downloading http://fashion-mnist.s3-website.eu-central-1.amazonaws.com/t10k-labels-idx1-ubyte.gz to ./data\\FashionMNIST\\raw\\t10k-labels-idx1-ubyte.gz\n"
          ]
        },
        {
          "name": "stderr",
          "output_type": "stream",
          "text": [
            "100%|██████████| 5148/5148 [00:00<00:00, 2885510.76it/s]\n"
          ]
        },
        {
          "name": "stdout",
          "output_type": "stream",
          "text": [
            "Extracting ./data\\FashionMNIST\\raw\\t10k-labels-idx1-ubyte.gz to ./data\\FashionMNIST\\raw\n",
            "\n"
          ]
        }
      ],
      "source": [
        "#Using FashionMNIST class from torchvision module.\n",
        "train_set = torchvision.datasets.FashionMNIST(\"./data\", download=True, transform=\n",
        "                                                transforms.Compose([transforms.ToTensor()]))\n",
        "test_set = torchvision.datasets.FashionMNIST(\"./data\", download=True, train=False, transform=\n",
        "                                               transforms.Compose([transforms.ToTensor()]))"
      ]
    },
    {
      "cell_type": "code",
      "execution_count": 3,
      "metadata": {
        "colab": {
          "base_uri": "https://localhost:8080/"
        },
        "id": "U6jdWYWQyKQZ",
        "outputId": "71a75519-ad00-45bd-bd24-77d29090e025"
      },
      "outputs": [
        {
          "data": {
            "text/plain": [
              "60000"
            ]
          },
          "execution_count": 3,
          "metadata": {},
          "output_type": "execute_result"
        }
      ],
      "source": [
        "len(train_set)"
      ]
    },
    {
      "cell_type": "code",
      "execution_count": 4,
      "metadata": {
        "id": "YdV1-BNVv7Du"
      },
      "outputs": [],
      "source": [
        "train_loader = torch.utils.data.DataLoader(train_set, \n",
        "                                           batch_size=100)\n",
        "test_loader = torch.utils.data.DataLoader(test_set,\n",
        "                                          batch_size=100)"
      ]
    },
    {
      "cell_type": "code",
      "execution_count": 5,
      "metadata": {
        "colab": {
          "base_uri": "https://localhost:8080/"
        },
        "id": "0yIT2oQ2yBXh",
        "outputId": "2e021def-592e-4031-f7ff-d5318e6b7fbd"
      },
      "outputs": [
        {
          "data": {
            "text/plain": [
              "600"
            ]
          },
          "execution_count": 5,
          "metadata": {},
          "output_type": "execute_result"
        }
      ],
      "source": [
        "len(train_loader)"
      ]
    },
    {
      "cell_type": "code",
      "execution_count": 6,
      "metadata": {
        "id": "tq4E_O5dv7Du"
      },
      "outputs": [],
      "source": [
        "def output_label(label):\n",
        "    output_mapping = {\n",
        "                 0: \"T-shirt/Top\",\n",
        "                 1: \"Trouser\",\n",
        "                 2: \"Pullover\",\n",
        "                 3: \"Dress\",\n",
        "                 4: \"Coat\", \n",
        "                 5: \"Sandal\", \n",
        "                 6: \"Shirt\",\n",
        "                 7: \"Sneaker\",\n",
        "                 8: \"Bag\",\n",
        "                 9: \"Ankle Boot\"\n",
        "                 }\n",
        "    input = (label.item() if type(label) == torch.Tensor else label)\n",
        "    return output_mapping[input]"
      ]
    },
    {
      "cell_type": "code",
      "execution_count": 7,
      "metadata": {
        "id": "kkklQZ1Xv7Dv"
      },
      "outputs": [
        {
          "data": {
            "image/png": "[encoded data removed]",
            "text/plain": [
              "<Figure size 720x720 with 25 Axes>"
            ]
          },
          "metadata": {
            "needs_background": "light"
          },
          "output_type": "display_data"
        }
      ],
      "source": [
        "#displaying some datapoints\n",
        "images, labels = next(iter(train_loader))\n",
        "\n",
        "# Visualize the images\n",
        "fig, axs = plt.subplots(5, 5, figsize=(10, 10))\n",
        "for i, ax in enumerate(axs.flatten()):\n",
        "    ax.imshow(images[i].squeeze(), cmap='gray')\n",
        "    ax.set_title(str(labels[i].item()))\n",
        "    ax.axis('off')\n",
        "\n",
        "plt.tight_layout()\n",
        "plt.show()"
      ]
    },
    {
      "cell_type": "code",
      "execution_count": 8,
      "metadata": {
        "id": "Fsu4xCLav7Dw"
      },
      "outputs": [
        {
          "data": {
            "text/plain": [
              "'\\nMake a model class (FashionCNN in our case)\\nIt inherit nn.Module class that is a super class for all the neural networks in Pytorch.\\nOur Neural Net has following layers:\\n\\nTwo Sequential layers each consists of following layers-\\n\\nConvolution layer that has kernel size of 3 * 3, padding = 1 (zero_padding) in 1st layer and padding = 0 in second one. Stride of 1 in both layer.\\nBatch Normalization layer.\\nAcitvation function: ReLU.\\nMax Pooling layer with kernel size of 2 * 2 and stride 2.\\nFlatten out the output for dense layer(a.k.a. fully connected layer).\\n3 Fully connected layer with different in/out features.\\n1 Dropout layer that has class probability p = 0.25.\\nAll the functionaltiy is given in forward method that defines the forward pass of CNN.\\nOur input image is changing in a following way:\\nFirst Convulation layer : input: 28 * 28 * 3, output: 28 * 28 * 32\\nFirst Max Pooling layer : input: 28 * 28 * 32, output: 14 * 14 * 32\\nSecond Conv layer : input : 14 * 14 * 32, output: 12 * 12 * 64\\nSecond Max Pooling layer : 12 * 12 * 64, output: 6 * 6 * 64\\nFinal fully connected layer has 10 output features for 10 types of clothes.\\nLets implementing the network...\\n\\n'"
            ]
          },
          "execution_count": 8,
          "metadata": {},
          "output_type": "execute_result"
        }
      ],
      "source": [
        "#Building a CNN\n",
        "\"\"\"\n",
        "Make a model class (FashionCNN in our case)\n",
        "It inherit nn.Module class that is a super class for all the neural networks in Pytorch.\n",
        "Our Neural Net has following layers:\n",
        "\n",
        "Two Sequential layers each consists of following layers-\n",
        "\n",
        "Convolution layer that has kernel size of 3 * 3, padding = 1 (zero_padding) in 1st layer and padding = 0 in second one. Stride of 1 in both layer.\n",
        "Batch Normalization layer.\n",
        "Acitvation function: ReLU.\n",
        "Max Pooling layer with kernel size of 2 * 2 and stride 2.\n",
        "Flatten out the output for dense layer(a.k.a. fully connected layer).\n",
        "3 Fully connected layer with different in/out features.\n",
        "1 Dropout layer that has class probability p = 0.25.\n",
        "All the functionaltiy is given in forward method that defines the forward pass of CNN.\n",
        "Our input image is changing in a following way:\n",
        "First Convulation layer : input: 28 * 28 * 3, output: 28 * 28 * 32\n",
        "First Max Pooling layer : input: 28 * 28 * 32, output: 14 * 14 * 32\n",
        "Second Conv layer : input : 14 * 14 * 32, output: 12 * 12 * 64\n",
        "Second Max Pooling layer : 12 * 12 * 64, output: 6 * 6 * 64\n",
        "Final fully connected layer has 10 output features for 10 types of clothes.\n",
        "Lets implementing the network...\n",
        "\n",
        "\"\"\""
      ]
    },
    {
      "cell_type": "code",
      "execution_count": 9,
      "metadata": {
        "id": "l_xetBWLv7Dw"
      },
      "outputs": [],
      "source": [
        "class FashionCNN(nn.Module):\n",
        "    \n",
        "    def __init__(self):\n",
        "        super(FashionCNN, self).__init__()\n",
        "        \n",
        "        self.layer1 = nn.Sequential(\n",
        "            nn.Conv2d(in_channels=1, out_channels=32, kernel_size=3, padding=1),\n",
        "            nn.BatchNorm2d(32),\n",
        "            nn.ReLU(),\n",
        "            nn.MaxPool2d(kernel_size=2, stride=2)\n",
        "        )\n",
        "        \n",
        "        self.layer2 = nn.Sequential(\n",
        "            nn.Conv2d(in_channels=32, out_channels=64, kernel_size=3),\n",
        "            nn.BatchNorm2d(64),\n",
        "            nn.ReLU(),\n",
        "            nn.MaxPool2d(2)\n",
        "        )\n",
        "        \n",
        "        self.fc1 = nn.Linear(in_features=64*6*6, out_features=600)\n",
        "        self.drop = nn.Dropout2d(0.25)\n",
        "        self.fc2 = nn.Linear(in_features=600, out_features=120)\n",
        "        self.fc3 = nn.Linear(in_features=120, out_features=10)\n",
        "        \n",
        "    def forward(self, x):\n",
        "        out = self.layer1(x)\n",
        "        out = self.layer2(out)\n",
        "        out = out.view(out.size(0), -1)\n",
        "        out = self.fc1(out)\n",
        "        out = self.drop(out)\n",
        "        out = self.fc2(out)\n",
        "        out = self.fc3(out)\n",
        "        \n",
        "        return out"
      ]
    },
    {
      "cell_type": "code",
      "execution_count": null,
      "metadata": {
        "id": "k7Yt8UOWv7Dx"
      },
      "outputs": [],
      "source": [
        "#Making a model of our CNN class\n",
        "\"\"\"\n",
        "Creating a object(model in the code)\n",
        "Transfering it into GPU if available.\n",
        "Defining a Loss function. we're using CrossEntropyLoss() here.\n",
        "Using Adam algorithm for optimization purpose.\n",
        "\"\"\""
      ]
    },
    {
      "cell_type": "code",
      "execution_count": 11,
      "metadata": {
        "id": "2tMUpXJSv7Dx"
      },
      "outputs": [
        {
          "name": "stdout",
          "output_type": "stream",
          "text": [
            "FashionCNN(\n",
            "  (layer1): Sequential(\n",
            "    (0): Conv2d(1, 32, kernel_size=(3, 3), stride=(1, 1), padding=(1, 1))\n",
            "    (1): BatchNorm2d(32, eps=1e-05, momentum=0.1, affine=True, track_running_stats=True)\n",
            "    (2): ReLU()\n",
            "    (3): MaxPool2d(kernel_size=2, stride=2, padding=0, dilation=1, ceil_mode=False)\n",
            "  )\n",
            "  (layer2): Sequential(\n",
            "    (0): Conv2d(32, 64, kernel_size=(3, 3), stride=(1, 1))\n",
            "    (1): BatchNorm2d(64, eps=1e-05, momentum=0.1, affine=True, track_running_stats=True)\n",
            "    (2): ReLU()\n",
            "    (3): MaxPool2d(kernel_size=2, stride=2, padding=0, dilation=1, ceil_mode=False)\n",
            "  )\n",
            "  (fc1): Linear(in_features=2304, out_features=600, bias=True)\n",
            "  (drop): Dropout2d(p=0.25, inplace=False)\n",
            "  (fc2): Linear(in_features=600, out_features=120, bias=True)\n",
            "  (fc3): Linear(in_features=120, out_features=10, bias=True)\n",
            ")\n"
          ]
        }
      ],
      "source": [
        "model = FashionCNN()\n",
        "# model.to(device)\n",
        "\n",
        "error = nn.CrossEntropyLoss()\n",
        "\n",
        "learning_rate = 0.001\n",
        "optimizer = torch.optim.Adam(model.parameters(), lr=learning_rate)\n",
        "print(model)"
      ]
    },
    {
      "cell_type": "code",
      "execution_count": 14,
      "metadata": {
        "id": "gup2y_0Dv7Dy"
      },
      "outputs": [
        {
          "ename": "NameError",
          "evalue": "name 'device' is not defined",
          "output_type": "error",
          "traceback": [
            "\u001b[1;31m---------------------------------------------------------------------------\u001b[0m",
            "\u001b[1;31mNameError\u001b[0m                                 Traceback (most recent call last)",
            "\u001b[1;32m<ipython-input-14-6aed59c8b923>\u001b[0m in \u001b[0;36m<module>\u001b[1;34m\u001b[0m\n\u001b[0;32m     47\u001b[0m                 \u001b[0moutputs\u001b[0m \u001b[1;33m=\u001b[0m \u001b[0mmodel\u001b[0m\u001b[1;33m(\u001b[0m\u001b[0mtest\u001b[0m\u001b[1;33m)\u001b[0m\u001b[1;33m\u001b[0m\u001b[1;33m\u001b[0m\u001b[0m\n\u001b[0;32m     48\u001b[0m \u001b[1;33m\u001b[0m\u001b[0m\n\u001b[1;32m---> 49\u001b[1;33m                 \u001b[0mpredictions\u001b[0m \u001b[1;33m=\u001b[0m \u001b[0mtorch\u001b[0m\u001b[1;33m.\u001b[0m\u001b[0mmax\u001b[0m\u001b[1;33m(\u001b[0m\u001b[0moutputs\u001b[0m\u001b[1;33m,\u001b[0m \u001b[1;36m1\u001b[0m\u001b[1;33m)\u001b[0m\u001b[1;33m[\u001b[0m\u001b[1;36m1\u001b[0m\u001b[1;33m]\u001b[0m\u001b[1;33m.\u001b[0m\u001b[0mto\u001b[0m\u001b[1;33m(\u001b[0m\u001b[0mdevice\u001b[0m\u001b[1;33m)\u001b[0m\u001b[1;33m\u001b[0m\u001b[1;33m\u001b[0m\u001b[0m\n\u001b[0m\u001b[0;32m     50\u001b[0m                 \u001b[0mpredictions_list\u001b[0m\u001b[1;33m.\u001b[0m\u001b[0mappend\u001b[0m\u001b[1;33m(\u001b[0m\u001b[0mpredictions\u001b[0m\u001b[1;33m)\u001b[0m\u001b[1;33m\u001b[0m\u001b[1;33m\u001b[0m\u001b[0m\n\u001b[0;32m     51\u001b[0m                 \u001b[0mcorrect\u001b[0m \u001b[1;33m+=\u001b[0m \u001b[1;33m(\u001b[0m\u001b[0mpredictions\u001b[0m \u001b[1;33m==\u001b[0m \u001b[0mlabels\u001b[0m\u001b[1;33m)\u001b[0m\u001b[1;33m.\u001b[0m\u001b[0msum\u001b[0m\u001b[1;33m(\u001b[0m\u001b[1;33m)\u001b[0m\u001b[1;33m\u001b[0m\u001b[1;33m\u001b[0m\u001b[0m\n",
            "\u001b[1;31mNameError\u001b[0m: name 'device' is not defined"
          ]
        }
      ],
      "source": [
        "num_epochs = 5\n",
        "count = 0\n",
        "# Lists for visualization of loss and accuracy \n",
        "loss_list = []\n",
        "iteration_list = []\n",
        "accuracy_list = []\n",
        "\n",
        "# Lists for knowing classwise accuracy\n",
        "predictions_list = []\n",
        "labels_list = []\n",
        "\n",
        "for epoch in range(num_epochs):\n",
        "    for images, labels in train_loader:\n",
        "        # Transfering images and labels to GPU if available\n",
        "        # images, labels = images.to(device), labels.to(device)\n",
        "    \n",
        "        train = Variable(images.view(100, 1, 28, 28))\n",
        "        labels = Variable(labels)\n",
        "        \n",
        "        # Forward pass \n",
        "        outputs = model(train)\n",
        "        loss = error(outputs, labels)\n",
        "        \n",
        "        # Initializing a gradient as 0 so there is no mixing of gradient among the batches\n",
        "        optimizer.zero_grad()\n",
        "        \n",
        "        #Propagating the error backward\n",
        "        loss.backward()\n",
        "        \n",
        "        # Optimizing the parameters\n",
        "        optimizer.step()\n",
        "    \n",
        "        count += 1\n",
        "    \n",
        "    # Testing the model\n",
        "    \n",
        "        if not (count % 50):    # It's same as \"if count % 50 == 0\"\n",
        "            total = 0\n",
        "            correct = 0\n",
        "        \n",
        "            for images, labels in test_loader:\n",
        "                # images, labels = images.to(device), labels.to(device)\n",
        "                labels_list.append(labels)\n",
        "            \n",
        "                test = Variable(images.view(100, 1, 28, 28))\n",
        "            \n",
        "                outputs = model(test)\n",
        "            \n",
        "                predictions = torch.max(outputs, 1)[1]\n",
        "                predictions_list.append(predictions)\n",
        "                correct += (predictions == labels).sum()\n",
        "            \n",
        "                total += len(labels)\n",
        "            \n",
        "            accuracy = correct * 100 / total\n",
        "            loss_list.append(loss.data)\n",
        "            iteration_list.append(count)\n",
        "            accuracy_list.append(accuracy)\n",
        "        \n",
        "        if not (count % 500):\n",
        "            print(\"Iteration: {}, Loss: {}, Accuracy: {}%\".format(count, loss.data, accuracy))"
      ]
    },
    {
      "cell_type": "code",
      "execution_count": null,
      "metadata": {
        "id": "aqFtz9sGv7Dy"
      },
      "outputs": [],
      "source": [
        "plt.plot(iteration_list, loss_list)\n",
        "plt.xlabel(\"No. of Iteration\")\n",
        "plt.ylabel(\"Loss\")\n",
        "plt.title(\"Iterations vs Loss\")\n",
        "plt.show()"
      ]
    },
    {
      "cell_type": "code",
      "execution_count": null,
      "metadata": {
        "id": "QYxwtnyUv7Dy"
      },
      "outputs": [],
      "source": [
        "plt.plot(iteration_list, accuracy_list)\n",
        "plt.xlabel(\"No. of Iteration\")\n",
        "plt.ylabel(\"Accuracy\")\n",
        "plt.title(\"Iterations vs Accuracy\")\n",
        "plt.show()"
      ]
    },
    {
      "cell_type": "code",
      "execution_count": null,
      "metadata": {
        "id": "n3qZzlEwv7Dz"
      },
      "outputs": [],
      "source": [
        "#Looking the Accuracy in each class of FashionMNIST dataset\n",
        "\n",
        "class_correct = [0. for _ in range(10)]\n",
        "total_correct = [0. for _ in range(10)]\n",
        "\n",
        "with torch.no_grad():\n",
        "    for images, labels in test_loader:\n",
        "        images, labels = images.to(device), labels.to(device)\n",
        "        test = Variable(images)\n",
        "        outputs = model(test)\n",
        "        predicted = torch.max(outputs, 1)[1]\n",
        "        c = (predicted == labels).squeeze()\n",
        "        \n",
        "        for i in range(100):\n",
        "            label = labels[i]\n",
        "            class_correct[label] += c[i].item()\n",
        "            total_correct[label] += 1\n",
        "        \n",
        "for i in range(10):\n",
        "    print(\"Accuracy of {}: {:.2f}%\".format(output_label(i), class_correct[i] * 100 / total_correct[i]))"
      ]
    }
  ],
  "metadata": {
    "colab": {
      "provenance": []
    },
    "kernelspec": {
      "display_name": "base",
      "language": "python",
      "name": "python3"
    },
    "language_info": {
      "codemirror_mode": {
        "name": "ipython",
        "version": 3
      },
      "file_extension": ".py",
      "mimetype": "text/x-python",
      "name": "python",
      "nbconvert_exporter": "python",
      "pygments_lexer": "ipython3",
      "version": "3.8.8"
    }
  },
  "nbformat": 4,
  "nbformat_minor": 0
}
